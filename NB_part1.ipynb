{
 "cells": [
  {
   "cell_type": "code",
   "execution_count": 1,
   "metadata": {},
   "outputs": [],
   "source": [
    "import nltk\n",
    "from nltk.corpus import stopwords\n",
    "from nltk.tokenize import word_tokenize\n",
    "from nltk.stem.porter import PorterStemmer\n",
    "from nltk.stem import WordNetLemmatizer\n",
    "from sklearn.feature_extraction.text import CountVectorizer\n",
    "\n",
    "import pandas as pd\n",
    "import numpy as np\n",
    "import re"
   ]
  },
  {
   "attachments": {},
   "cell_type": "markdown",
   "metadata": {},
   "source": [
    "### read data from the dataset file"
   ]
  },
  {
   "cell_type": "code",
   "execution_count": 2,
   "metadata": {},
   "outputs": [
    {
     "name": "stdout",
     "output_type": "stream",
     "text": [
      "neg    25000\n",
      "pos    25000\n",
      "Name: label, dtype: int64\n",
      "test     25000\n",
      "train    25000\n",
      "Name: type, dtype: int64\n"
     ]
    }
   ],
   "source": [
    "df = pd.read_csv('imdb_master.csv', index_col=False, encoding='ISO-8859-1')\n",
    "# Remove the first column\n",
    "df = df.drop(df.columns[0], axis=1)\n",
    "# Remove the rows with label == 'unsup'\n",
    "df = df[df.label != 'unsup']\n",
    "\n",
    "# create a overview of the 'label' and 'type' columns\n",
    "print(df['label'].value_counts())\n",
    "print(df['type'].value_counts())\n"
   ]
  },
  {
   "cell_type": "code",
   "execution_count": 3,
   "metadata": {},
   "outputs": [
    {
     "data": {
      "text/html": [
       "<div>\n",
       "<style scoped>\n",
       "    .dataframe tbody tr th:only-of-type {\n",
       "        vertical-align: middle;\n",
       "    }\n",
       "\n",
       "    .dataframe tbody tr th {\n",
       "        vertical-align: top;\n",
       "    }\n",
       "\n",
       "    .dataframe thead th {\n",
       "        text-align: right;\n",
       "    }\n",
       "</style>\n",
       "<table border=\"1\" class=\"dataframe\">\n",
       "  <thead>\n",
       "    <tr style=\"text-align: right;\">\n",
       "      <th></th>\n",
       "      <th>type</th>\n",
       "      <th>review</th>\n",
       "      <th>label</th>\n",
       "      <th>file</th>\n",
       "    </tr>\n",
       "  </thead>\n",
       "  <tbody>\n",
       "    <tr>\n",
       "      <th>0</th>\n",
       "      <td>test</td>\n",
       "      <td>Once again Mr. Costner has dragged out a movie...</td>\n",
       "      <td>neg</td>\n",
       "      <td>0_2.txt</td>\n",
       "    </tr>\n",
       "    <tr>\n",
       "      <th>1</th>\n",
       "      <td>test</td>\n",
       "      <td>This is an example of why the majority of acti...</td>\n",
       "      <td>neg</td>\n",
       "      <td>10000_4.txt</td>\n",
       "    </tr>\n",
       "    <tr>\n",
       "      <th>2</th>\n",
       "      <td>test</td>\n",
       "      <td>First of all I hate those moronic rappers, who...</td>\n",
       "      <td>neg</td>\n",
       "      <td>10001_1.txt</td>\n",
       "    </tr>\n",
       "    <tr>\n",
       "      <th>3</th>\n",
       "      <td>test</td>\n",
       "      <td>Not even the Beatles could write songs everyon...</td>\n",
       "      <td>neg</td>\n",
       "      <td>10002_3.txt</td>\n",
       "    </tr>\n",
       "    <tr>\n",
       "      <th>4</th>\n",
       "      <td>test</td>\n",
       "      <td>Brass pictures (movies is not a fitting word f...</td>\n",
       "      <td>neg</td>\n",
       "      <td>10003_3.txt</td>\n",
       "    </tr>\n",
       "  </tbody>\n",
       "</table>\n",
       "</div>"
      ],
      "text/plain": [
       "   type                                             review label         file\n",
       "0  test  Once again Mr. Costner has dragged out a movie...   neg      0_2.txt\n",
       "1  test  This is an example of why the majority of acti...   neg  10000_4.txt\n",
       "2  test  First of all I hate those moronic rappers, who...   neg  10001_1.txt\n",
       "3  test  Not even the Beatles could write songs everyon...   neg  10002_3.txt\n",
       "4  test  Brass pictures (movies is not a fitting word f...   neg  10003_3.txt"
      ]
     },
     "execution_count": 3,
     "metadata": {},
     "output_type": "execute_result"
    }
   ],
   "source": [
    "df.head()"
   ]
  },
  {
   "cell_type": "code",
   "execution_count": 4,
   "metadata": {},
   "outputs": [],
   "source": [
    "# split the data into train and test by the type column\n",
    "train_df = df[df.type == 'train']\n",
    "test_df = df[df.type == 'test']\n",
    "\n",
    "X_train = train_df['review']\n",
    "y_train = train_df['label']\n",
    "\n",
    "X_test = test_df['review']\n",
    "y_test = test_df['label']"
   ]
  },
  {
   "attachments": {},
   "cell_type": "markdown",
   "metadata": {},
   "source": [
    "### text pre-processing"
   ]
  },
  {
   "cell_type": "code",
   "execution_count": 5,
   "metadata": {},
   "outputs": [],
   "source": [
    "#Process the review column line by line to do text preprocessing\n",
    "def process_review(review):\n",
    "    # remove the punctuations and numbers\n",
    "    review = re.sub(r'[^A-Za-z]+', ' ', review)\n",
    "    # convert the review to lower case\n",
    "    review = review.lower()\n",
    "    # remove the stopwords\n",
    "    stop_words = set(stopwords.words('english'))\n",
    "    # tokenize the words\n",
    "    word_tokens = word_tokenize(review)\n",
    "    filtered_review = [w for w in word_tokens if not w in stop_words]\n",
    "    # stem the words\n",
    "    stemmer = PorterStemmer()\n",
    "    stemmed_review = [stemmer.stem(w) for w in filtered_review]\n",
    "    # # lemmatize the words\n",
    "    # lemmatizer = WordNetLemmatizer()\n",
    "    # lemmatized_review = [lemmatizer.lemmatize(w) for w in stemmed_review]\n",
    "    # return the processed review\n",
    "    return stemmed_review"
   ]
  },
  {
   "cell_type": "code",
   "execution_count": 6,
   "metadata": {},
   "outputs": [],
   "source": [
    "# process the train and test reviews\n",
    "X_train = X_train.apply(process_review)\n",
    "X_test = X_test.apply(process_review)\n"
   ]
  },
  {
   "cell_type": "code",
   "execution_count": 7,
   "metadata": {},
   "outputs": [
    {
     "data": {
      "text/plain": [
       "25000    [stori, man, unnatur, feel, pig, start, open, ...\n",
       "25001    [airport, start, brand, new, luxuri, plane, lo...\n",
       "25002    [film, lack, someth, put, finger, first, chari...\n",
       "25003    [sorri, everyon, know, suppos, art, film, wow,...\n",
       "25004    [littl, parent, took, along, theater, see, int...\n",
       "Name: review, dtype: object"
      ]
     },
     "execution_count": 7,
     "metadata": {},
     "output_type": "execute_result"
    }
   ],
   "source": [
    "X_train.head()"
   ]
  },
  {
   "cell_type": "code",
   "execution_count": null,
   "metadata": {},
   "outputs": [],
   "source": []
  },
  {
   "attachments": {},
   "cell_type": "markdown",
   "metadata": {},
   "source": [
    "## Naïve Bayes classifier (baseline)"
   ]
  },
  {
   "cell_type": "code",
   "execution_count": 8,
   "metadata": {},
   "outputs": [
    {
     "data": {
      "text/plain": [
       "[('br', 101872),\n",
       " ('movi', 51717),\n",
       " ('film', 48210),\n",
       " ('one', 27749),\n",
       " ('like', 22806),\n",
       " ('time', 16198),\n",
       " ('good', 15367),\n",
       " ('make', 15212),\n",
       " ('charact', 14184),\n",
       " ('get', 14143)]"
      ]
     },
     "execution_count": 8,
     "metadata": {},
     "output_type": "execute_result"
    }
   ],
   "source": [
    "# create a vocabulary\n",
    "vocab = {}\n",
    "for review in X_train:\n",
    "    for word in review:\n",
    "        if word in vocab:\n",
    "            vocab[word] += 1\n",
    "        else:\n",
    "            vocab[word] = 1\n",
    "\n",
    "# sort the bag by the value\n",
    "vocab = sorted(vocab.items(), key=lambda x: x[1], reverse=True)\n",
    "# remove the words with frequency less than 2\n",
    "vocab = [x for x in vocab if x[1] >= 2]\n",
    "# # add the <UNK> token\n",
    "# vocab.append(('<UNK>', 0))\n",
    "vocab[:10]\n"
   ]
  },
  {
   "cell_type": "code",
   "execution_count": 9,
   "metadata": {},
   "outputs": [
    {
     "data": {
      "text/plain": [
       "30948"
      ]
     },
     "execution_count": 9,
     "metadata": {},
     "output_type": "execute_result"
    }
   ],
   "source": [
    "len(vocab)"
   ]
  },
  {
   "cell_type": "code",
   "execution_count": 13,
   "metadata": {},
   "outputs": [],
   "source": [
    "# create naive bayes model\n",
    "def naive_bayes_model(X_train, y_train, vocab, k=1):\n",
    "    # the key is the class and the value is the prior probability\n",
    "    prior_prob = {}\n",
    "    prior_prob['pos'] = y_train.value_counts()['pos'] / len(y_train)\n",
    "    prior_prob['neg'] = y_train.value_counts()['neg'] / len(y_train)\n",
    "    # the key is the class and the value is the conditional probability\n",
    "    cond_prob = {}\n",
    "    cond_prob['pos'] = {}\n",
    "    cond_prob['neg'] = {}\n",
    "    # calculate the conditional probability of each word given each class\n",
    "    for word in vocab:\n",
    "        # calculate the conditional probability of the word given the class 'pos'\n",
    "        word_given_pos = X_train[y_train == 'pos'].apply(lambda x: x.count(word[0]))\n",
    "        cond_prob['pos'][word[0]] = (word_given_pos.sum() + k) / (len(X_train[y_train == 'pos']) + k * len(vocab))\n",
    "        # calculate the conditional probability of the word given the class 'neg'\n",
    "        word_given_neg = X_train[y_train == 'neg'].apply(lambda x: x.count(word[0]))\n",
    "        cond_prob['neg'][word[0]] = (word_given_neg.sum() + k) / (len(X_train[y_train == 'neg']) + k * len(vocab))\n",
    "\n",
    "    return prior_prob, cond_prob\n",
    "              "
   ]
  },
  {
   "cell_type": "code",
   "execution_count": 14,
   "metadata": {},
   "outputs": [],
   "source": [
    "prior_prob, cond_prob = naive_bayes_model(X_train, y_train, vocab, k=1)"
   ]
  },
  {
   "cell_type": "code",
   "execution_count": 16,
   "metadata": {},
   "outputs": [
    {
     "data": {
      "text/plain": [
       "0.09954428282084331"
      ]
     },
     "execution_count": 16,
     "metadata": {},
     "output_type": "execute_result"
    }
   ],
   "source": [
    "cond_prob['pos']['best']"
   ]
  },
  {
   "cell_type": "code",
   "execution_count": 17,
   "metadata": {},
   "outputs": [],
   "source": [
    "# predict the class of the test dataset\n",
    "def get_y_pred(X_test, prior_prob, cond_prob, vocab):\n",
    "    y_pred = []\n",
    "    for review in X_test:\n",
    "        # calculate the posterior probability of each class given the review\n",
    "        pos_prob = np.log(prior_prob['pos'])\n",
    "        neg_prob = np.log(prior_prob['neg'])\n",
    "        for word in review:\n",
    "            # if the word appear in the 'pos' class\n",
    "            if word in cond_prob['pos']:\n",
    "                pos_prob += np.log(cond_prob['pos'][word])\n",
    "            if word in cond_prob['neg']:\n",
    "                neg_prob += np.log(cond_prob['neg'][word]) \n",
    "        # predict the class of the review\n",
    "        if pos_prob > neg_prob:\n",
    "            y_pred.append('pos')\n",
    "        else:\n",
    "            y_pred.append('neg')\n",
    "    return y_pred\n"
   ]
  },
  {
   "cell_type": "code",
   "execution_count": 18,
   "metadata": {},
   "outputs": [],
   "source": [
    "y_pred = get_y_pred(X_test, prior_prob, cond_prob, vocab)"
   ]
  },
  {
   "cell_type": "code",
   "execution_count": 19,
   "metadata": {},
   "outputs": [
    {
     "data": {
      "text/plain": [
       "0.82464"
      ]
     },
     "execution_count": 19,
     "metadata": {},
     "output_type": "execute_result"
    }
   ],
   "source": [
    "# calculate the accuracy of the model on the test dataset from the predicted class\n",
    "accuracy = (y_pred == y_test).sum() / len(y_test)\n",
    "accuracy"
   ]
  },
  {
   "attachments": {},
   "cell_type": "markdown",
   "metadata": {},
   "source": [
    "### F1 measure"
   ]
  },
  {
   "cell_type": "code",
   "execution_count": 20,
   "metadata": {},
   "outputs": [
    {
     "data": {
      "text/html": [
       "<div>\n",
       "<style scoped>\n",
       "    .dataframe tbody tr th:only-of-type {\n",
       "        vertical-align: middle;\n",
       "    }\n",
       "\n",
       "    .dataframe tbody tr th {\n",
       "        vertical-align: top;\n",
       "    }\n",
       "\n",
       "    .dataframe thead th {\n",
       "        text-align: right;\n",
       "    }\n",
       "</style>\n",
       "<table border=\"1\" class=\"dataframe\">\n",
       "  <thead>\n",
       "    <tr style=\"text-align: right;\">\n",
       "      <th>Predicted</th>\n",
       "      <th>neg</th>\n",
       "      <th>pos</th>\n",
       "    </tr>\n",
       "    <tr>\n",
       "      <th>Actual</th>\n",
       "      <th></th>\n",
       "      <th></th>\n",
       "    </tr>\n",
       "  </thead>\n",
       "  <tbody>\n",
       "    <tr>\n",
       "      <th>neg</th>\n",
       "      <td>9929</td>\n",
       "      <td>2571</td>\n",
       "    </tr>\n",
       "    <tr>\n",
       "      <th>pos</th>\n",
       "      <td>1813</td>\n",
       "      <td>10687</td>\n",
       "    </tr>\n",
       "  </tbody>\n",
       "</table>\n",
       "</div>"
      ],
      "text/plain": [
       "Predicted   neg    pos\n",
       "Actual                \n",
       "neg        9929   2571\n",
       "pos        1813  10687"
      ]
     },
     "execution_count": 20,
     "metadata": {},
     "output_type": "execute_result"
    }
   ],
   "source": [
    "# calculate the confusion matrix\n",
    "confusion_matrix = pd.crosstab(y_test, y_pred, rownames=['Actual'], colnames=['Predicted'])\n",
    "confusion_matrix"
   ]
  },
  {
   "cell_type": "code",
   "execution_count": 47,
   "metadata": {},
   "outputs": [],
   "source": [
    "# build F1 score method\n",
    "def f1_score(y_true, y_pred):\n",
    "    # get the true positive, false positive, false negative\n",
    "    tp = ((y_true == 'pos') & (y_pred == 'pos')).sum()\n",
    "    fp = ((y_true == 'neg') & (y_pred == 'pos')).sum()\n",
    "    fn = ((y_true == 'pos') & (y_pred == 'neg')).sum()\n",
    "    # calculate the precision and recall\n",
    "    precision = tp / (tp + fp)\n",
    "    recall = tp / (tp + fn)\n",
    "    # calculate the F1 score\n",
    "    f1 = 2 * precision * recall / (precision + recall)\n",
    "    return f1"
   ]
  },
  {
   "cell_type": "code",
   "execution_count": 24,
   "metadata": {},
   "outputs": [
    {
     "data": {
      "text/plain": [
       "0.8298004503455236"
      ]
     },
     "execution_count": 24,
     "metadata": {},
     "output_type": "execute_result"
    }
   ],
   "source": [
    "# convert the class to a numpy array\n",
    "y_pred0 = np.array(y_pred)\n",
    "y_test0 = np.array(y_test)\n",
    "\n",
    "f1 = f1_score(y_test0, y_pred0)\n",
    "f1\n"
   ]
  },
  {
   "attachments": {},
   "cell_type": "markdown",
   "metadata": {},
   "source": [
    "## Experiment"
   ]
  },
  {
   "cell_type": "code",
   "execution_count": null,
   "metadata": {},
   "outputs": [],
   "source": []
  },
  {
   "attachments": {},
   "cell_type": "markdown",
   "metadata": {},
   "source": [
    "### K-smoothing"
   ]
  },
  {
   "cell_type": "code",
   "execution_count": 48,
   "metadata": {},
   "outputs": [
    {
     "name": "stderr",
     "output_type": "stream",
     "text": [
      "/var/folders/tr/3_k_czmn2552n9rftmys1pwh0000gn/T/ipykernel_12770/2548843458.py:13: RuntimeWarning: divide by zero encountered in log\n",
      "  neg_prob += np.log(cond_prob['neg'][word])\n",
      "/var/folders/tr/3_k_czmn2552n9rftmys1pwh0000gn/T/ipykernel_12770/2548843458.py:11: RuntimeWarning: divide by zero encountered in log\n",
      "  pos_prob += np.log(cond_prob['pos'][word])\n"
     ]
    },
    {
     "name": "stdout",
     "output_type": "stream",
     "text": [
      "k = 0, accuracy = 0.73472, time taken = 1144.84 seconds\n",
      "k = 0, F1 score = 0.7212274064733082, time taken = 1144.85 seconds\n",
      "k = 5, accuracy = 0.82896, time taken = 1746.18 seconds\n",
      "k = 5, F1 score = 0.8347758887171561, time taken = 1746.18 seconds\n",
      "k = 10, accuracy = 0.83028, time taken = 1174.87 seconds\n",
      "k = 10, F1 score = 0.8359559249951671, time taken = 1174.88 seconds\n",
      "k = 15, accuracy = 0.83188, time taken = 1133.71 seconds\n",
      "k = 15, F1 score = 0.8374269910648667, time taken = 1133.71 seconds\n",
      "k = 20, accuracy = 0.83304, time taken = 1131.71 seconds\n",
      "k = 20, F1 score = 0.8383173225906415, time taken = 1131.72 seconds\n"
     ]
    }
   ],
   "source": [
    "import time\n",
    "\n",
    "# try different values of k on the naive bayes model\n",
    "for k in [0, 5, 10, 15, 20]:\n",
    "    start_time = time.time()\n",
    "    prior_prob, cond_prob = naive_bayes_model(X_train, y_train, vocab, k=k)\n",
    "    y_pred = get_y_pred(X_test, prior_prob, cond_prob, vocab)\n",
    "    \n",
    "    accuracy = (y_pred == y_test).sum() / len(y_test)\n",
    "    print('k = {}, accuracy = {}, time taken = {:.2f} seconds'.format(k, accuracy, time.time() - start_time))\n",
    "    y_pred0 = np.array(y_pred)\n",
    "    y_test0 = np.array(y_test)\n",
    "    f1 = f1_score(y_test0, y_pred0)\n",
    "    print('k = {}, F1 score = {}, time taken = {:.2f} seconds'.format(k, f1, time.time() - start_time))\n"
   ]
  },
  {
   "cell_type": "code",
   "execution_count": 61,
   "metadata": {},
   "outputs": [
    {
     "data": {
      "image/png": "[encoded data removed]",
      "text/plain": [
       "<Figure size 432x288 with 1 Axes>"
      ]
     },
     "metadata": {
      "needs_background": "light"
     },
     "output_type": "display_data"
    }
   ],
   "source": [
    "from matplotlib import pyplot as plt\n",
    "# plot the accuracy and F1 score of the naive bayes model with different values of k\n",
    "k_values = [0, 1, 5, 10, 15, 20]\n",
    "accuracy_values = [0.735, 0.825, 0.829, 0.830, 0.832, 0.833]\n",
    "f1_values = [0.721, 0.830, 0.835, 0.836, 0.837, 0.838]\n",
    "# plot the accuracy and F1 score\n",
    "plt.plot(k_values, accuracy_values, label='accuracy')\n",
    "plt.plot(k_values, f1_values, label='F1 score')\n",
    "plt.xlabel('k')\n",
    "plt.ylabel('accuracy and F1 score')\n",
    "plt.legend()\n",
    "plt.show()\n"
   ]
  },
  {
   "cell_type": "markdown",
   "metadata": {},
   "source": []
  }
 ],
 "metadata": {
  "kernelspec": {
   "display_name": "base",
   "language": "python",
   "name": "python3"
  },
  "language_info": {
   "codemirror_mode": {
    "name": "ipython",
    "version": 3
   },
   "file_extension": ".py",
   "mimetype": "text/x-python",
   "name": "python",
   "nbconvert_exporter": "python",
   "pygments_lexer": "ipython3",
   "version": "3.9.13"
  },
  "orig_nbformat": 4
 },
 "nbformat": 4,
 "nbformat_minor": 2
}
